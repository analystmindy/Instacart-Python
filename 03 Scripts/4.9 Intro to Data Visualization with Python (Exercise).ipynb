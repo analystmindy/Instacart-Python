{
 "cells": [
  {
   "cell_type": "markdown",
   "id": "c4812d38",
   "metadata": {},
   "source": [
    "# Importing Libraries"
   ]
  },
  {
   "cell_type": "code",
   "execution_count": 1,
   "id": "6908bcef",
   "metadata": {},
   "outputs": [],
   "source": [
    "# Import libraries\n",
    "\n",
    "import pandas as pd\n",
    "import numpy as np\n",
    "import os\n",
    "import matplotlib.pyplot as plt\n",
    "import seaborn as sns\n",
    "import scipy"
   ]
  },
  {
   "cell_type": "markdown",
   "id": "e9e552ae",
   "metadata": {},
   "source": [
    "# Importing Data"
   ]
  },
  {
   "cell_type": "code",
   "execution_count": 2,
   "id": "141b1bfb",
   "metadata": {},
   "outputs": [],
   "source": [
    "# Creating a path\n",
    "path = r'C:\\Users\\duongxma\\Dropbox\\CareerFoundry - Data Analytics\\Data Immersion\\Achievement 4\\Instacart Basket Analysis'"
   ]
  },
  {
   "cell_type": "code",
   "execution_count": 3,
   "id": "b04f5629",
   "metadata": {},
   "outputs": [],
   "source": [
    "# Import orders_products_merged.pkl\n",
    "ords_prods_merge = pd.read_pickle(os.path.join(path, '02 Data', 'Prepared Data', 'orders_products_merged_new.pkl'))"
   ]
  },
  {
   "cell_type": "code",
   "execution_count": 5,
   "id": "e77e5388",
   "metadata": {},
   "outputs": [
    {
     "data": {
      "text/html": [
       "<div>\n",
       "<style scoped>\n",
       "    .dataframe tbody tr th:only-of-type {\n",
       "        vertical-align: middle;\n",
       "    }\n",
       "\n",
       "    .dataframe tbody tr th {\n",
       "        vertical-align: top;\n",
       "    }\n",
       "\n",
       "    .dataframe thead th {\n",
       "        text-align: right;\n",
       "    }\n",
       "</style>\n",
       "<table border=\"1\" class=\"dataframe\">\n",
       "  <thead>\n",
       "    <tr style=\"text-align: right;\">\n",
       "      <th></th>\n",
       "      <th>order_id</th>\n",
       "      <th>user_id</th>\n",
       "      <th>eval_set</th>\n",
       "      <th>order_number</th>\n",
       "      <th>order_day_of_week</th>\n",
       "      <th>order_hour_of_day</th>\n",
       "      <th>days_since_last_order</th>\n",
       "      <th>product_id</th>\n",
       "      <th>add_to_cart_order</th>\n",
       "      <th>reordered</th>\n",
       "      <th>product_name</th>\n",
       "      <th>aisle_id</th>\n",
       "      <th>department_id</th>\n",
       "      <th>prices</th>\n",
       "      <th>_merge</th>\n",
       "      <th>price_range_loc</th>\n",
       "      <th>busiest_day</th>\n",
       "      <th>busiest_days</th>\n",
       "      <th>busiest_period_of_day</th>\n",
       "    </tr>\n",
       "  </thead>\n",
       "  <tbody>\n",
       "    <tr>\n",
       "      <th>0</th>\n",
       "      <td>2539329</td>\n",
       "      <td>1</td>\n",
       "      <td>prior</td>\n",
       "      <td>1</td>\n",
       "      <td>2</td>\n",
       "      <td>8</td>\n",
       "      <td>NaN</td>\n",
       "      <td>196</td>\n",
       "      <td>1</td>\n",
       "      <td>0</td>\n",
       "      <td>Soda</td>\n",
       "      <td>77</td>\n",
       "      <td>7</td>\n",
       "      <td>9.0</td>\n",
       "      <td>both</td>\n",
       "      <td>Mid-range product</td>\n",
       "      <td>Regularly busy</td>\n",
       "      <td>Regular days</td>\n",
       "      <td>Average orders</td>\n",
       "    </tr>\n",
       "    <tr>\n",
       "      <th>1</th>\n",
       "      <td>2398795</td>\n",
       "      <td>1</td>\n",
       "      <td>prior</td>\n",
       "      <td>2</td>\n",
       "      <td>3</td>\n",
       "      <td>7</td>\n",
       "      <td>15.0</td>\n",
       "      <td>196</td>\n",
       "      <td>1</td>\n",
       "      <td>1</td>\n",
       "      <td>Soda</td>\n",
       "      <td>77</td>\n",
       "      <td>7</td>\n",
       "      <td>9.0</td>\n",
       "      <td>both</td>\n",
       "      <td>Mid-range product</td>\n",
       "      <td>Regularly busy</td>\n",
       "      <td>Slowest days</td>\n",
       "      <td>Average orders</td>\n",
       "    </tr>\n",
       "    <tr>\n",
       "      <th>2</th>\n",
       "      <td>473747</td>\n",
       "      <td>1</td>\n",
       "      <td>prior</td>\n",
       "      <td>3</td>\n",
       "      <td>3</td>\n",
       "      <td>12</td>\n",
       "      <td>21.0</td>\n",
       "      <td>196</td>\n",
       "      <td>1</td>\n",
       "      <td>1</td>\n",
       "      <td>Soda</td>\n",
       "      <td>77</td>\n",
       "      <td>7</td>\n",
       "      <td>9.0</td>\n",
       "      <td>both</td>\n",
       "      <td>Mid-range product</td>\n",
       "      <td>Regularly busy</td>\n",
       "      <td>Slowest days</td>\n",
       "      <td>Most orders</td>\n",
       "    </tr>\n",
       "    <tr>\n",
       "      <th>3</th>\n",
       "      <td>2254736</td>\n",
       "      <td>1</td>\n",
       "      <td>prior</td>\n",
       "      <td>4</td>\n",
       "      <td>4</td>\n",
       "      <td>7</td>\n",
       "      <td>29.0</td>\n",
       "      <td>196</td>\n",
       "      <td>1</td>\n",
       "      <td>1</td>\n",
       "      <td>Soda</td>\n",
       "      <td>77</td>\n",
       "      <td>7</td>\n",
       "      <td>9.0</td>\n",
       "      <td>both</td>\n",
       "      <td>Mid-range product</td>\n",
       "      <td>Least busy</td>\n",
       "      <td>Slowest days</td>\n",
       "      <td>Average orders</td>\n",
       "    </tr>\n",
       "    <tr>\n",
       "      <th>4</th>\n",
       "      <td>431534</td>\n",
       "      <td>1</td>\n",
       "      <td>prior</td>\n",
       "      <td>5</td>\n",
       "      <td>4</td>\n",
       "      <td>15</td>\n",
       "      <td>28.0</td>\n",
       "      <td>196</td>\n",
       "      <td>1</td>\n",
       "      <td>1</td>\n",
       "      <td>Soda</td>\n",
       "      <td>77</td>\n",
       "      <td>7</td>\n",
       "      <td>9.0</td>\n",
       "      <td>both</td>\n",
       "      <td>Mid-range product</td>\n",
       "      <td>Least busy</td>\n",
       "      <td>Slowest days</td>\n",
       "      <td>Most orders</td>\n",
       "    </tr>\n",
       "  </tbody>\n",
       "</table>\n",
       "</div>"
      ],
      "text/plain": [
       "   order_id  user_id eval_set  order_number  order_day_of_week  \\\n",
       "0   2539329        1    prior             1                  2   \n",
       "1   2398795        1    prior             2                  3   \n",
       "2    473747        1    prior             3                  3   \n",
       "3   2254736        1    prior             4                  4   \n",
       "4    431534        1    prior             5                  4   \n",
       "\n",
       "   order_hour_of_day  days_since_last_order  product_id  add_to_cart_order  \\\n",
       "0                  8                    NaN         196                  1   \n",
       "1                  7                   15.0         196                  1   \n",
       "2                 12                   21.0         196                  1   \n",
       "3                  7                   29.0         196                  1   \n",
       "4                 15                   28.0         196                  1   \n",
       "\n",
       "   reordered product_name  aisle_id  department_id  prices _merge  \\\n",
       "0          0         Soda        77              7     9.0   both   \n",
       "1          1         Soda        77              7     9.0   both   \n",
       "2          1         Soda        77              7     9.0   both   \n",
       "3          1         Soda        77              7     9.0   both   \n",
       "4          1         Soda        77              7     9.0   both   \n",
       "\n",
       "     price_range_loc     busiest_day  busiest_days busiest_period_of_day  \n",
       "0  Mid-range product  Regularly busy  Regular days        Average orders  \n",
       "1  Mid-range product  Regularly busy  Slowest days        Average orders  \n",
       "2  Mid-range product  Regularly busy  Slowest days           Most orders  \n",
       "3  Mid-range product      Least busy  Slowest days        Average orders  \n",
       "4  Mid-range product      Least busy  Slowest days           Most orders  "
      ]
     },
     "execution_count": 5,
     "metadata": {},
     "output_type": "execute_result"
    }
   ],
   "source": [
    "ords_prods_merge.head()"
   ]
  },
  {
   "cell_type": "markdown",
   "id": "df52f95d",
   "metadata": {},
   "source": [
    "# Creating Bar Charts"
   ]
  },
  {
   "cell_type": "code",
   "execution_count": 6,
   "id": "b5a2ac58",
   "metadata": {},
   "outputs": [
    {
     "data": {
      "text/plain": [
       "<Axes: >"
      ]
     },
     "execution_count": 6,
     "metadata": {},
     "output_type": "execute_result"
    },
    {
     "data": {
      "image/png": "[encoded data removed]",
      "text/plain": [
       "<Figure size 640x480 with 1 Axes>"
      ]
     },
     "metadata": {},
     "output_type": "display_data"
    }
   ],
   "source": [
    "ords_prods_merge['order_day_of_week'].value_counts().plot.bar()"
   ]
  },
  {
   "cell_type": "code",
   "execution_count": 7,
   "id": "b0fb36e6",
   "metadata": {},
   "outputs": [
    {
     "data": {
      "image/png": "[encoded data removed]",
      "text/plain": [
       "<Figure size 640x480 with 1 Axes>"
      ]
     },
     "metadata": {},
     "output_type": "display_data"
    }
   ],
   "source": [
    "# Sort the bar graph in order\n",
    "\n",
    "bar = ords_prods_merge['order_day_of_week'].value_counts().sort_index().plot.bar()"
   ]
  },
  {
   "cell_type": "code",
   "execution_count": 9,
   "id": "e09403e9",
   "metadata": {},
   "outputs": [
    {
     "data": {
      "image/png": "[encoded data removed]",
      "text/plain": [
       "<Figure size 640x480 with 1 Axes>"
      ]
     },
     "metadata": {},
     "output_type": "display_data"
    }
   ],
   "source": [
    "# Adding color to the bar chart\n",
    "\n",
    "bar = ords_prods_merge['order_day_of_week'].value_counts().plot.bar(color =['purple', 'red', 'pink', 'orange', 'yellow', 'green', 'blue'])"
   ]
  },
  {
   "cell_type": "markdown",
   "id": "a7f74f6f",
   "metadata": {},
   "source": [
    "# Exporting Charts"
   ]
  },
  {
   "cell_type": "code",
   "execution_count": 10,
   "id": "5061fb44",
   "metadata": {},
   "outputs": [],
   "source": [
    "bar.figure.savefig(os.path.join(path, '04 Analysis','Visualizations', 'bar_orders_dow.png'))"
   ]
  },
  {
   "cell_type": "markdown",
   "id": "f7f5332c",
   "metadata": {},
   "source": [
    "# Creating Histograms and Scatterplots"
   ]
  },
  {
   "cell_type": "code",
   "execution_count": 11,
   "id": "1093774e",
   "metadata": {},
   "outputs": [
    {
     "data": {
      "text/plain": [
       "<Axes: ylabel='Frequency'>"
      ]
     },
     "execution_count": 11,
     "metadata": {},
     "output_type": "execute_result"
    },
    {
     "data": {
      "image/png": "[encoded data removed]",
      "text/plain": [
       "<Figure size 640x480 with 1 Axes>"
      ]
     },
     "metadata": {},
     "output_type": "display_data"
    }
   ],
   "source": [
    "# Creating histogram\n",
    "\n",
    "ords_prods_merge['prices'].plot.hist(bins = 25)"
   ]
  },
  {
   "cell_type": "code",
   "execution_count": 12,
   "id": "d3b6e1aa",
   "metadata": {},
   "outputs": [
    {
     "data": {
      "text/plain": [
       "count    3.240486e+07\n",
       "mean     1.198023e+01\n",
       "std      4.956554e+02\n",
       "min      1.000000e+00\n",
       "25%      4.200000e+00\n",
       "50%      7.400000e+00\n",
       "75%      1.130000e+01\n",
       "max      9.999900e+04\n",
       "Name: prices, dtype: float64"
      ]
     },
     "execution_count": 12,
     "metadata": {},
     "output_type": "execute_result"
    }
   ],
   "source": [
    "# Checking the descriptive statistics for the prices column\n",
    "\n",
    "ords_prods_merge['prices'].describe()"
   ]
  },
  {
   "cell_type": "code",
   "execution_count": 13,
   "id": "9bc52ece",
   "metadata": {},
   "outputs": [
    {
     "data": {
      "text/plain": [
       "11.980225638383454"
      ]
     },
     "execution_count": 13,
     "metadata": {},
     "output_type": "execute_result"
    }
   ],
   "source": [
    "# Checking the average / mean for the prices column\n",
    "\n",
    "ords_prods_merge['prices'].mean()"
   ]
  },
  {
   "cell_type": "code",
   "execution_count": 14,
   "id": "28518645",
   "metadata": {},
   "outputs": [
    {
     "data": {
      "text/plain": [
       "7.4"
      ]
     },
     "execution_count": 14,
     "metadata": {},
     "output_type": "execute_result"
    }
   ],
   "source": [
    "# Checking the median value for the prices column\n",
    "\n",
    "ords_prods_merge['prices'].median()"
   ]
  },
  {
   "cell_type": "code",
   "execution_count": 15,
   "id": "fc483287",
   "metadata": {},
   "outputs": [
    {
     "data": {
      "text/plain": [
       "99999.0"
      ]
     },
     "execution_count": 15,
     "metadata": {},
     "output_type": "execute_result"
    }
   ],
   "source": [
    "# Checking the max value for the prices column\n",
    "\n",
    "ords_prods_merge['prices'].max()"
   ]
  },
  {
   "cell_type": "code",
   "execution_count": 17,
   "id": "93c19947",
   "metadata": {},
   "outputs": [
    {
     "data": {
      "text/plain": [
       "<Axes: xlabel='prices', ylabel='prices'>"
      ]
     },
     "execution_count": 17,
     "metadata": {},
     "output_type": "execute_result"
    },
    {
     "data": {
      "image/png": "[encoded data removed]",
      "text/plain": [
       "<Figure size 640x480 with 1 Axes>"
      ]
     },
     "metadata": {},
     "output_type": "display_data"
    }
   ],
   "source": [
    "# Scatterplot\n",
    "\n",
    "sns.scatterplot(x = 'prices', y = 'prices',data = ords_prods_merge)"
   ]
  },
  {
   "cell_type": "code",
   "execution_count": 19,
   "id": "8001020a",
   "metadata": {},
   "outputs": [
    {
     "data": {
      "text/html": [
       "<div>\n",
       "<style scoped>\n",
       "    .dataframe tbody tr th:only-of-type {\n",
       "        vertical-align: middle;\n",
       "    }\n",
       "\n",
       "    .dataframe tbody tr th {\n",
       "        vertical-align: top;\n",
       "    }\n",
       "\n",
       "    .dataframe thead th {\n",
       "        text-align: right;\n",
       "    }\n",
       "</style>\n",
       "<table border=\"1\" class=\"dataframe\">\n",
       "  <thead>\n",
       "    <tr style=\"text-align: right;\">\n",
       "      <th></th>\n",
       "      <th>order_id</th>\n",
       "      <th>user_id</th>\n",
       "      <th>eval_set</th>\n",
       "      <th>order_number</th>\n",
       "      <th>order_day_of_week</th>\n",
       "      <th>order_hour_of_day</th>\n",
       "      <th>days_since_last_order</th>\n",
       "      <th>product_id</th>\n",
       "      <th>add_to_cart_order</th>\n",
       "      <th>reordered</th>\n",
       "      <th>product_name</th>\n",
       "      <th>aisle_id</th>\n",
       "      <th>department_id</th>\n",
       "      <th>prices</th>\n",
       "      <th>_merge</th>\n",
       "      <th>price_range_loc</th>\n",
       "      <th>busiest_day</th>\n",
       "      <th>busiest_days</th>\n",
       "      <th>busiest_period_of_day</th>\n",
       "    </tr>\n",
       "  </thead>\n",
       "  <tbody>\n",
       "    <tr>\n",
       "      <th>10030345</th>\n",
       "      <td>912404</td>\n",
       "      <td>17</td>\n",
       "      <td>prior</td>\n",
       "      <td>12</td>\n",
       "      <td>2</td>\n",
       "      <td>14</td>\n",
       "      <td>5.0</td>\n",
       "      <td>21553</td>\n",
       "      <td>5</td>\n",
       "      <td>0</td>\n",
       "      <td>Lowfat 2% Milkfat Cottage Cheese</td>\n",
       "      <td>108</td>\n",
       "      <td>16</td>\n",
       "      <td>14900.0</td>\n",
       "      <td>both</td>\n",
       "      <td>High-range product</td>\n",
       "      <td>Regularly busy</td>\n",
       "      <td>Regular days</td>\n",
       "      <td>Most orders</td>\n",
       "    </tr>\n",
       "    <tr>\n",
       "      <th>10030346</th>\n",
       "      <td>603376</td>\n",
       "      <td>17</td>\n",
       "      <td>prior</td>\n",
       "      <td>22</td>\n",
       "      <td>6</td>\n",
       "      <td>16</td>\n",
       "      <td>4.0</td>\n",
       "      <td>21553</td>\n",
       "      <td>3</td>\n",
       "      <td>1</td>\n",
       "      <td>Lowfat 2% Milkfat Cottage Cheese</td>\n",
       "      <td>108</td>\n",
       "      <td>16</td>\n",
       "      <td>14900.0</td>\n",
       "      <td>both</td>\n",
       "      <td>High-range product</td>\n",
       "      <td>Regularly busy</td>\n",
       "      <td>Regular days</td>\n",
       "      <td>Most orders</td>\n",
       "    </tr>\n",
       "    <tr>\n",
       "      <th>10030347</th>\n",
       "      <td>3264360</td>\n",
       "      <td>135</td>\n",
       "      <td>prior</td>\n",
       "      <td>2</td>\n",
       "      <td>2</td>\n",
       "      <td>21</td>\n",
       "      <td>13.0</td>\n",
       "      <td>21553</td>\n",
       "      <td>6</td>\n",
       "      <td>0</td>\n",
       "      <td>Lowfat 2% Milkfat Cottage Cheese</td>\n",
       "      <td>108</td>\n",
       "      <td>16</td>\n",
       "      <td>14900.0</td>\n",
       "      <td>both</td>\n",
       "      <td>High-range product</td>\n",
       "      <td>Regularly busy</td>\n",
       "      <td>Regular days</td>\n",
       "      <td>Average orders</td>\n",
       "    </tr>\n",
       "    <tr>\n",
       "      <th>10030348</th>\n",
       "      <td>892534</td>\n",
       "      <td>135</td>\n",
       "      <td>prior</td>\n",
       "      <td>3</td>\n",
       "      <td>0</td>\n",
       "      <td>8</td>\n",
       "      <td>12.0</td>\n",
       "      <td>21553</td>\n",
       "      <td>3</td>\n",
       "      <td>1</td>\n",
       "      <td>Lowfat 2% Milkfat Cottage Cheese</td>\n",
       "      <td>108</td>\n",
       "      <td>16</td>\n",
       "      <td>14900.0</td>\n",
       "      <td>both</td>\n",
       "      <td>High-range product</td>\n",
       "      <td>Busiest day</td>\n",
       "      <td>Busiest days</td>\n",
       "      <td>Average orders</td>\n",
       "    </tr>\n",
       "    <tr>\n",
       "      <th>10030349</th>\n",
       "      <td>229704</td>\n",
       "      <td>342</td>\n",
       "      <td>prior</td>\n",
       "      <td>8</td>\n",
       "      <td>1</td>\n",
       "      <td>19</td>\n",
       "      <td>30.0</td>\n",
       "      <td>21553</td>\n",
       "      <td>9</td>\n",
       "      <td>0</td>\n",
       "      <td>Lowfat 2% Milkfat Cottage Cheese</td>\n",
       "      <td>108</td>\n",
       "      <td>16</td>\n",
       "      <td>14900.0</td>\n",
       "      <td>both</td>\n",
       "      <td>High-range product</td>\n",
       "      <td>Regularly busy</td>\n",
       "      <td>Busiest days</td>\n",
       "      <td>Average orders</td>\n",
       "    </tr>\n",
       "    <tr>\n",
       "      <th>...</th>\n",
       "      <td>...</td>\n",
       "      <td>...</td>\n",
       "      <td>...</td>\n",
       "      <td>...</td>\n",
       "      <td>...</td>\n",
       "      <td>...</td>\n",
       "      <td>...</td>\n",
       "      <td>...</td>\n",
       "      <td>...</td>\n",
       "      <td>...</td>\n",
       "      <td>...</td>\n",
       "      <td>...</td>\n",
       "      <td>...</td>\n",
       "      <td>...</td>\n",
       "      <td>...</td>\n",
       "      <td>...</td>\n",
       "      <td>...</td>\n",
       "      <td>...</td>\n",
       "      <td>...</td>\n",
       "    </tr>\n",
       "    <tr>\n",
       "      <th>29166209</th>\n",
       "      <td>2249946</td>\n",
       "      <td>204099</td>\n",
       "      <td>prior</td>\n",
       "      <td>29</td>\n",
       "      <td>0</td>\n",
       "      <td>8</td>\n",
       "      <td>4.0</td>\n",
       "      <td>33664</td>\n",
       "      <td>1</td>\n",
       "      <td>0</td>\n",
       "      <td>2 % Reduced Fat  Milk</td>\n",
       "      <td>84</td>\n",
       "      <td>16</td>\n",
       "      <td>99999.0</td>\n",
       "      <td>both</td>\n",
       "      <td>High-range product</td>\n",
       "      <td>Busiest day</td>\n",
       "      <td>Busiest days</td>\n",
       "      <td>Average orders</td>\n",
       "    </tr>\n",
       "    <tr>\n",
       "      <th>29166210</th>\n",
       "      <td>2363282</td>\n",
       "      <td>204099</td>\n",
       "      <td>prior</td>\n",
       "      <td>31</td>\n",
       "      <td>0</td>\n",
       "      <td>9</td>\n",
       "      <td>2.0</td>\n",
       "      <td>33664</td>\n",
       "      <td>1</td>\n",
       "      <td>1</td>\n",
       "      <td>2 % Reduced Fat  Milk</td>\n",
       "      <td>84</td>\n",
       "      <td>16</td>\n",
       "      <td>99999.0</td>\n",
       "      <td>both</td>\n",
       "      <td>High-range product</td>\n",
       "      <td>Busiest day</td>\n",
       "      <td>Busiest days</td>\n",
       "      <td>Most orders</td>\n",
       "    </tr>\n",
       "    <tr>\n",
       "      <th>29166211</th>\n",
       "      <td>3181945</td>\n",
       "      <td>204395</td>\n",
       "      <td>prior</td>\n",
       "      <td>13</td>\n",
       "      <td>3</td>\n",
       "      <td>15</td>\n",
       "      <td>8.0</td>\n",
       "      <td>33664</td>\n",
       "      <td>25</td>\n",
       "      <td>0</td>\n",
       "      <td>2 % Reduced Fat  Milk</td>\n",
       "      <td>84</td>\n",
       "      <td>16</td>\n",
       "      <td>99999.0</td>\n",
       "      <td>both</td>\n",
       "      <td>High-range product</td>\n",
       "      <td>Regularly busy</td>\n",
       "      <td>Slowest days</td>\n",
       "      <td>Most orders</td>\n",
       "    </tr>\n",
       "    <tr>\n",
       "      <th>29166212</th>\n",
       "      <td>2486215</td>\n",
       "      <td>205227</td>\n",
       "      <td>prior</td>\n",
       "      <td>7</td>\n",
       "      <td>3</td>\n",
       "      <td>20</td>\n",
       "      <td>4.0</td>\n",
       "      <td>33664</td>\n",
       "      <td>8</td>\n",
       "      <td>0</td>\n",
       "      <td>2 % Reduced Fat  Milk</td>\n",
       "      <td>84</td>\n",
       "      <td>16</td>\n",
       "      <td>99999.0</td>\n",
       "      <td>both</td>\n",
       "      <td>High-range product</td>\n",
       "      <td>Regularly busy</td>\n",
       "      <td>Slowest days</td>\n",
       "      <td>Average orders</td>\n",
       "    </tr>\n",
       "    <tr>\n",
       "      <th>29166213</th>\n",
       "      <td>2232716</td>\n",
       "      <td>205227</td>\n",
       "      <td>prior</td>\n",
       "      <td>10</td>\n",
       "      <td>0</td>\n",
       "      <td>11</td>\n",
       "      <td>4.0</td>\n",
       "      <td>33664</td>\n",
       "      <td>23</td>\n",
       "      <td>1</td>\n",
       "      <td>2 % Reduced Fat  Milk</td>\n",
       "      <td>84</td>\n",
       "      <td>16</td>\n",
       "      <td>99999.0</td>\n",
       "      <td>both</td>\n",
       "      <td>High-range product</td>\n",
       "      <td>Busiest day</td>\n",
       "      <td>Busiest days</td>\n",
       "      <td>Most orders</td>\n",
       "    </tr>\n",
       "  </tbody>\n",
       "</table>\n",
       "<p>5127 rows × 19 columns</p>\n",
       "</div>"
      ],
      "text/plain": [
       "          order_id  user_id eval_set  order_number  order_day_of_week  \\\n",
       "10030345    912404       17    prior            12                  2   \n",
       "10030346    603376       17    prior            22                  6   \n",
       "10030347   3264360      135    prior             2                  2   \n",
       "10030348    892534      135    prior             3                  0   \n",
       "10030349    229704      342    prior             8                  1   \n",
       "...            ...      ...      ...           ...                ...   \n",
       "29166209   2249946   204099    prior            29                  0   \n",
       "29166210   2363282   204099    prior            31                  0   \n",
       "29166211   3181945   204395    prior            13                  3   \n",
       "29166212   2486215   205227    prior             7                  3   \n",
       "29166213   2232716   205227    prior            10                  0   \n",
       "\n",
       "          order_hour_of_day  days_since_last_order  product_id  \\\n",
       "10030345                 14                    5.0       21553   \n",
       "10030346                 16                    4.0       21553   \n",
       "10030347                 21                   13.0       21553   \n",
       "10030348                  8                   12.0       21553   \n",
       "10030349                 19                   30.0       21553   \n",
       "...                     ...                    ...         ...   \n",
       "29166209                  8                    4.0       33664   \n",
       "29166210                  9                    2.0       33664   \n",
       "29166211                 15                    8.0       33664   \n",
       "29166212                 20                    4.0       33664   \n",
       "29166213                 11                    4.0       33664   \n",
       "\n",
       "          add_to_cart_order  reordered                      product_name  \\\n",
       "10030345                  5          0  Lowfat 2% Milkfat Cottage Cheese   \n",
       "10030346                  3          1  Lowfat 2% Milkfat Cottage Cheese   \n",
       "10030347                  6          0  Lowfat 2% Milkfat Cottage Cheese   \n",
       "10030348                  3          1  Lowfat 2% Milkfat Cottage Cheese   \n",
       "10030349                  9          0  Lowfat 2% Milkfat Cottage Cheese   \n",
       "...                     ...        ...                               ...   \n",
       "29166209                  1          0             2 % Reduced Fat  Milk   \n",
       "29166210                  1          1             2 % Reduced Fat  Milk   \n",
       "29166211                 25          0             2 % Reduced Fat  Milk   \n",
       "29166212                  8          0             2 % Reduced Fat  Milk   \n",
       "29166213                 23          1             2 % Reduced Fat  Milk   \n",
       "\n",
       "          aisle_id  department_id   prices _merge     price_range_loc  \\\n",
       "10030345       108             16  14900.0   both  High-range product   \n",
       "10030346       108             16  14900.0   both  High-range product   \n",
       "10030347       108             16  14900.0   both  High-range product   \n",
       "10030348       108             16  14900.0   both  High-range product   \n",
       "10030349       108             16  14900.0   both  High-range product   \n",
       "...            ...            ...      ...    ...                 ...   \n",
       "29166209        84             16  99999.0   both  High-range product   \n",
       "29166210        84             16  99999.0   both  High-range product   \n",
       "29166211        84             16  99999.0   both  High-range product   \n",
       "29166212        84             16  99999.0   both  High-range product   \n",
       "29166213        84             16  99999.0   both  High-range product   \n",
       "\n",
       "             busiest_day  busiest_days busiest_period_of_day  \n",
       "10030345  Regularly busy  Regular days           Most orders  \n",
       "10030346  Regularly busy  Regular days           Most orders  \n",
       "10030347  Regularly busy  Regular days        Average orders  \n",
       "10030348     Busiest day  Busiest days        Average orders  \n",
       "10030349  Regularly busy  Busiest days        Average orders  \n",
       "...                  ...           ...                   ...  \n",
       "29166209     Busiest day  Busiest days        Average orders  \n",
       "29166210     Busiest day  Busiest days           Most orders  \n",
       "29166211  Regularly busy  Slowest days           Most orders  \n",
       "29166212  Regularly busy  Slowest days        Average orders  \n",
       "29166213     Busiest day  Busiest days           Most orders  \n",
       "\n",
       "[5127 rows x 19 columns]"
      ]
     },
     "execution_count": 19,
     "metadata": {},
     "output_type": "execute_result"
    }
   ],
   "source": [
    "# Determine whether there are any values above a certain threshold in the data. The following assumes that the max price\n",
    "# someone would pay at the supermarket is $100, so anything above it would be considered an outlier. \n",
    "\n",
    "ords_prods_merge.loc[ords_prods_merge['prices'] > 100]"
   ]
  },
  {
   "cell_type": "code",
   "execution_count": 20,
   "id": "3fc341f7",
   "metadata": {},
   "outputs": [],
   "source": [
    "# Marks anything above 100 as missing so it doesn't skew the data / graphs\n",
    "\n",
    "ords_prods_merge.loc[ords_prods_merge['prices'] >100, 'prices'] = np.nan"
   ]
  },
  {
   "cell_type": "code",
   "execution_count": 21,
   "id": "a224c321",
   "metadata": {},
   "outputs": [
    {
     "data": {
      "text/plain": [
       "25.0"
      ]
     },
     "execution_count": 21,
     "metadata": {},
     "output_type": "execute_result"
    }
   ],
   "source": [
    "# Check to see what the max price is now\n",
    "\n",
    "ords_prods_merge['prices'].max()"
   ]
  },
  {
   "cell_type": "code",
   "execution_count": 23,
   "id": "0a981539",
   "metadata": {},
   "outputs": [
    {
     "data": {
      "image/png": "[encoded data removed]",
      "text/plain": [
       "<Figure size 640x480 with 1 Axes>"
      ]
     },
     "metadata": {},
     "output_type": "display_data"
    }
   ],
   "source": [
    "# Creating the histogram again with the smaller dataset\n",
    "\n",
    "hist = ords_prods_merge['prices'].plot.hist(bins = 25)"
   ]
  },
  {
   "cell_type": "code",
   "execution_count": 24,
   "id": "a3480b6d",
   "metadata": {},
   "outputs": [
    {
     "data": {
      "image/png": "[encoded data removed]",
      "text/plain": [
       "<Figure size 640x480 with 1 Axes>"
      ]
     },
     "metadata": {},
     "output_type": "display_data"
    }
   ],
   "source": [
    "# Increase level of granularity, which will produce more, thinner columns\n",
    "\n",
    "hist_2 = ords_prods_merge['prices'].plot.hist(bins = 70)"
   ]
  },
  {
   "cell_type": "markdown",
   "id": "21f6cc4c",
   "metadata": {},
   "source": [
    "# Creating Line Charts"
   ]
  },
  {
   "cell_type": "code",
   "execution_count": 25,
   "id": "e5b7908b",
   "metadata": {},
   "outputs": [],
   "source": [
    "# Creating a random sample \n",
    "\n",
    "np.random.seed(4)\n",
    "dev = np.random.rand(len(ords_prods_merge)) <= 0.7"
   ]
  },
  {
   "cell_type": "code",
   "execution_count": 26,
   "id": "106d0b2e",
   "metadata": {},
   "outputs": [
    {
     "data": {
      "text/plain": [
       "array([False,  True, False, ...,  True,  True,  True])"
      ]
     },
     "execution_count": 26,
     "metadata": {},
     "output_type": "execute_result"
    }
   ],
   "source": [
    "dev"
   ]
  },
  {
   "cell_type": "code",
   "execution_count": 27,
   "id": "44c4c269",
   "metadata": {},
   "outputs": [
    {
     "data": {
      "text/plain": [
       "array([0.93546686, 0.06557465, 0.85698584, 0.24456371, 0.22683171,\n",
       "       0.17068366, 0.27008946, 0.52534234, 0.83151571, 0.78153402])"
      ]
     },
     "execution_count": 27,
     "metadata": {},
     "output_type": "execute_result"
    }
   ],
   "source": [
    "np.random.rand(10)"
   ]
  },
  {
   "cell_type": "code",
   "execution_count": 28,
   "id": "c4fc0d50",
   "metadata": {},
   "outputs": [],
   "source": [
    "# Create a list holding True/False values to the test np.random.rant() <= 0.7\n",
    "\n",
    "dev = np.random.rand(len(ords_prods_merge)) <= 0.7"
   ]
  },
  {
   "cell_type": "code",
   "execution_count": 29,
   "id": "ecc9b4c5",
   "metadata": {},
   "outputs": [],
   "source": [
    "# Store 70% of sample in the dataframe big\n",
    "\n",
    "big = ords_prods_merge[dev]"
   ]
  },
  {
   "cell_type": "code",
   "execution_count": 30,
   "id": "0fde7c42",
   "metadata": {},
   "outputs": [],
   "source": [
    "# Store 30% of sample in the dataframe small\n",
    "\n",
    "small = ords_prods_merge[~dev]"
   ]
  },
  {
   "cell_type": "code",
   "execution_count": 31,
   "id": "fd4fb494",
   "metadata": {},
   "outputs": [
    {
     "data": {
      "text/plain": [
       "32404859"
      ]
     },
     "execution_count": 31,
     "metadata": {},
     "output_type": "execute_result"
    }
   ],
   "source": [
    "# Check length of the entire dataframe\n",
    "\n",
    "len(ords_prods_merge)"
   ]
  },
  {
   "cell_type": "code",
   "execution_count": 32,
   "id": "16eedb36",
   "metadata": {},
   "outputs": [
    {
     "data": {
      "text/plain": [
       "32404859"
      ]
     },
     "execution_count": 32,
     "metadata": {},
     "output_type": "execute_result"
    }
   ],
   "source": [
    "# Check length of the sample dataframe; since 70% is in big and 30% is in small, adding them together should give you 100% of\n",
    "# the original / entire dataframe\n",
    "\n",
    "len(big)+len(small)"
   ]
  },
  {
   "cell_type": "code",
   "execution_count": 33,
   "id": "406501d0",
   "metadata": {},
   "outputs": [],
   "source": [
    "# Creates new dataframe where prices and order_day_of_week columns are from the small subset\n",
    "\n",
    "df_2 = small[['order_day_of_week','prices']]"
   ]
  },
  {
   "cell_type": "code",
   "execution_count": 34,
   "id": "a8ef982f",
   "metadata": {},
   "outputs": [
    {
     "data": {
      "image/png": "[encoded data removed]",
      "text/plain": [
       "<Figure size 640x480 with 1 Axes>"
      ]
     },
     "metadata": {},
     "output_type": "display_data"
    }
   ],
   "source": [
    "# Creates the line graph\n",
    "\n",
    "line = sns.lineplot(data = df_2, x = 'order_day_of_week',y = 'prices')"
   ]
  },
  {
   "cell_type": "code",
   "execution_count": 35,
   "id": "c54c7a3e",
   "metadata": {},
   "outputs": [],
   "source": [
    "# Create new dataframe that has the full data set to compare to the previous line graph\n",
    "\n",
    "df_4 = ords_prods_merge[['order_day_of_week','prices']]"
   ]
  },
  {
   "cell_type": "code",
   "execution_count": 36,
   "id": "42252b8f",
   "metadata": {},
   "outputs": [
    {
     "data": {
      "image/png": "[encoded data removed]",
      "text/plain": [
       "<Figure size 640x480 with 1 Axes>"
      ]
     },
     "metadata": {},
     "output_type": "display_data"
    }
   ],
   "source": [
    "line_2 = sns.lineplot(data = df_4, x = 'order_day_of_week',y = 'prices')"
   ]
  },
  {
   "cell_type": "code",
   "execution_count": null,
   "id": "bdb030ea",
   "metadata": {},
   "outputs": [],
   "source": []
  }
 ],
 "metadata": {
  "kernelspec": {
   "display_name": "Python 3 (ipykernel)",
   "language": "python",
   "name": "python3"
  },
  "language_info": {
   "codemirror_mode": {
    "name": "ipython",
    "version": 3
   },
   "file_extension": ".py",
   "mimetype": "text/x-python",
   "name": "python",
   "nbconvert_exporter": "python",
   "pygments_lexer": "ipython3",
   "version": "3.10.9"
  }
 },
 "nbformat": 4,
 "nbformat_minor": 5
}
